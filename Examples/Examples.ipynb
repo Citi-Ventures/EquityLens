{
  "nbformat": 4,
  "nbformat_minor": 0,
  "metadata": {
    "colab": {
      "name": "Examples.ipynb",
      "provenance": [],
      "collapsed_sections": []
    },
    "kernelspec": {
      "name": "python3",
      "display_name": "Python 3"
    },
    "language_info": {
      "name": "python"
    }
  },
  "cells": [
    {
      "cell_type": "markdown",
      "source": [
        "**This notebook is to demonstrate the use of [Equity Lens](https://github.com/xie1027/DEI_Toolbox)**  \n",
        "\n",
        "\n",
        "\n",
        "\n",
        "\n",
        " \n",
        "\n",
        "**`Date created`**: June 2, 2022\n",
        "\n",
        "**`Date updated`**: August 2, 2022\n",
        "\n",
        "**`Version`**: EquityLens 0.0.1\n"
      ],
      "metadata": {
        "id": "aSK7V6l8OCdT"
      }
    },
    {
      "cell_type": "markdown",
      "source": [
        "# Install the package"
      ],
      "metadata": {
        "id": "dXoIpIerS1Ad"
      }
    },
    {
      "cell_type": "code",
      "execution_count": null,
      "metadata": {
        "id": "bc3L76HH9gfn"
      },
      "outputs": [],
      "source": [
        "# private\n",
        "!pip3 install git+ssh://git@github.com/xie1027/EquityLens.git\n",
        "\n",
        "# public\n",
        "#!pip3 install git+https://github.com/xie1027/EquityLens.git "
      ]
    },
    {
      "cell_type": "code",
      "source": [
        "import EquityLens\n",
        "import warnings\n",
        "warnings.filterwarnings(\"ignore\", category=FutureWarning)"
      ],
      "metadata": {
        "id": "sZcPLfpC9lBF"
      },
      "execution_count": 2,
      "outputs": []
    },
    {
      "cell_type": "markdown",
      "source": [
        "# **Feature 1:** Evaluate a company's DEI efforts in three dimensions\n"
      ],
      "metadata": {
        "id": "h4lKFVtTEdU0"
      }
    },
    {
      "cell_type": "code",
      "source": [
        "# replace this by your token\n",
        "token = 'replace-with-your-token'"
      ],
      "metadata": {
        "id": "scHXgITpodZ9"
      },
      "execution_count": null,
      "outputs": []
    },
    {
      "cell_type": "code",
      "source": [
        "EquityLens.functions.company_dei_score('1PM Industries, Inc.',token)"
      ],
      "metadata": {
        "colab": {
          "base_uri": "https://localhost:8080/",
          "height": 278
        },
        "id": "FZEPBD_qKpZi",
        "outputId": "71c282f3-d603-47d9-ea96-089bea933b8f"
      },
      "execution_count": 5,
      "outputs": [
        {
          "output_type": "display_data",
          "data": {
            "text/markdown": "## 1PM Industries, Inc. \n      Diversity and Inclusion Index, 1-100:"
          },
          "metadata": {}
        },
        {
          "output_type": "stream",
          "name": "stdout",
          "text": [
            "+----------------------------+-------+\n",
            "|                            | Score |\n",
            "+----------------------------+-------+\n",
            "| DEI                        |   \u001b[1;31m42\u001b[0m  |\n",
            "| Gender Diversity           |   \u001b[1;31m39\u001b[0m  |\n",
            "| Racial Diversity           |   \u001b[1;31m44\u001b[0m  |\n",
            "| Gender Attrition Inclusion |   \u001b[1;31m41\u001b[0m  |\n",
            "| Racial Attrition Inclusion |   \u001b[1;32m55\u001b[0m  |\n",
            "| Gender Resource Disparity  |   \u001b[1;31m39\u001b[0m  |\n",
            "| Racial Resource Disparity  |   \u001b[1;32m59\u001b[0m  |\n",
            "+----------------------------+-------+\n"
          ]
        }
      ]
    },
    {
      "cell_type": "code",
      "source": [
        "EquityLens.functions.company_dei_score('Citigroup',token)"
      ],
      "metadata": {
        "colab": {
          "base_uri": "https://localhost:8080/",
          "height": 278
        },
        "id": "AaGfRhT4BwSe",
        "outputId": "fc740ec9-13c2-4f14-eec9-196c8a936b64"
      },
      "execution_count": 6,
      "outputs": [
        {
          "output_type": "display_data",
          "data": {
            "text/markdown": "## Citigroup Inc. \n      Diversity and Inclusion Index, 1-100:"
          },
          "metadata": {}
        },
        {
          "output_type": "stream",
          "name": "stdout",
          "text": [
            "+----------------------------+-------+\n",
            "|                            | Score |\n",
            "+----------------------------+-------+\n",
            "| DEI                        |   \u001b[1;32m98\u001b[0m  |\n",
            "| Gender Diversity           |   \u001b[1;32m92\u001b[0m  |\n",
            "| Racial Diversity           |   \u001b[1;32m95\u001b[0m  |\n",
            "| Gender Attrition Inclusion |   \u001b[1;32m74\u001b[0m  |\n",
            "| Racial Attrition Inclusion |   \u001b[1;32m80\u001b[0m  |\n",
            "| Gender Resource Disparity  |   \u001b[1;32m92\u001b[0m  |\n",
            "| Racial Resource Disparity  |   \u001b[1;32m99\u001b[0m  |\n",
            "+----------------------------+-------+\n"
          ]
        }
      ]
    },
    {
      "cell_type": "code",
      "source": [
        "EquityLens.functions.company_dei_score('facebook', token)"
      ],
      "metadata": {
        "colab": {
          "base_uri": "https://localhost:8080/",
          "height": 278
        },
        "id": "zHZ3mB1DHwQr",
        "outputId": "422a65d2-b620-4c39-e858-548b9219e788"
      },
      "execution_count": 7,
      "outputs": [
        {
          "output_type": "display_data",
          "data": {
            "text/markdown": "## Facebook, Inc. \n      Diversity and Inclusion Index, 1-100:"
          },
          "metadata": {}
        },
        {
          "output_type": "stream",
          "name": "stdout",
          "text": [
            "+----------------------------+-------+\n",
            "|                            | Score |\n",
            "+----------------------------+-------+\n",
            "| DEI                        |   \u001b[1;32m98\u001b[0m  |\n",
            "| Gender Diversity           |   \u001b[1;32m62\u001b[0m  |\n",
            "| Racial Diversity           |   \u001b[1;32m98\u001b[0m  |\n",
            "| Gender Attrition Inclusion |   \u001b[1;32m74\u001b[0m  |\n",
            "| Racial Attrition Inclusion |   \u001b[1;32m80\u001b[0m  |\n",
            "| Gender Resource Disparity  |   \u001b[1;32m62\u001b[0m  |\n",
            "| Racial Resource Disparity  |   \u001b[1;32m97\u001b[0m  |\n",
            "+----------------------------+-------+\n"
          ]
        }
      ]
    },
    {
      "cell_type": "markdown",
      "source": [
        "\n",
        "\n",
        "---\n",
        "\n",
        "\n",
        "\n",
        "\n"
      ],
      "metadata": {
        "id": "2BLnNbAwOje5"
      }
    },
    {
      "cell_type": "markdown",
      "source": [
        "# **Feature 2:** Evaluate data samples' representation, Generate proxies for protected class indicators"
      ],
      "metadata": {
        "id": "GwdI9f49HjMp"
      }
    },
    {
      "cell_type": "code",
      "source": [
        "company_list = ['FLWS', 'ATNF', 'RETC', 'ONCP', 'RTNB', 'C']\n",
        "EquityLens.functions.sample_dei_score(company_list, token)"
      ],
      "metadata": {
        "colab": {
          "base_uri": "https://localhost:8080/",
          "height": 236
        },
        "id": "q0Qa_Fm5HugW",
        "outputId": "cf91a265-cf43-492b-987e-9377a2b4b61b"
      },
      "execution_count": 8,
      "outputs": [
        {
          "output_type": "display_data",
          "data": {
            "text/markdown": "### Diversity and Inclusion Median Scores, 1-100:"
          },
          "metadata": {}
        },
        {
          "output_type": "stream",
          "name": "stdout",
          "text": [
            "+----------------------------+-------+\n",
            "|                            | Score |\n",
            "+----------------------------+-------+\n",
            "| Gender Diversity           |   \u001b[1;32m73\u001b[0m  |\n",
            "| Racial Diversity           |   \u001b[1;31m35\u001b[0m  |\n",
            "| Gender Attrition Inclusion |   \u001b[1;31m49\u001b[0m  |\n",
            "| Racial Attrition Inclusion |   \u001b[1;31m46\u001b[0m  |\n",
            "| Gender Resource Disparity  |   \u001b[1;32m73\u001b[0m  |\n",
            "| Racial Resource Disparity  |   \u001b[1;31m43\u001b[0m  |\n",
            "+----------------------------+-------+\n"
          ]
        }
      ]
    },
    {
      "cell_type": "markdown",
      "source": [
        "<font color='green'>Pre-processing: Potential biases in the dataset\n",
        "\n",
        "1.   Lack of racial diversity\n",
        "2.   Attrition rates have large variance across groups\n",
        "3.   Dispairy in racial resources\n",
        "   \n",
        "</font> \n",
        "\n",
        "\n",
        "\n",
        "\n",
        "\n",
        "\n",
        "\n"
      ],
      "metadata": {
        "id": "mY0xbsKHIMGm"
      }
    },
    {
      "cell_type": "markdown",
      "source": [
        "# **Feature 3:** Compute DEI scores"
      ],
      "metadata": {
        "id": "thy852WBK7UV"
      }
    },
    {
      "cell_type": "markdown",
      "source": [
        "This function takes a list of a group aggregated statistics and calculates its DEI score based on a specific definition of Diversity and Inclusion.\n",
        "\n",
        "Input: \n",
        "1.   *var_list*(list) : a list of group numbers \n",
        "2.   *definition*(str): 'variety',  'separation', 'disparity'\n",
        "3.   *industry*(str): industry name\n",
        "\n",
        "Output: DEI score\n",
        "\n"
      ],
      "metadata": {
        "id": "uTkuZZQZMPN1"
      }
    },
    {
      "cell_type": "code",
      "source": [
        "var_list = [0.11853823, 0.061011526, 0.114244634, 2.617285942]\n",
        "print(EquityLens.functions.compute_score(var_list, 'variety' , 'Finance', token))\n",
        "print(EquityLens.functions.compute_score(var_list, 'separation' , 'Tech', token))\n",
        "print(EquityLens.functions.compute_score(var_list, 'disparity' , 'Health Care', token))"
      ],
      "metadata": {
        "colab": {
          "base_uri": "https://localhost:8080/"
        },
        "id": "EFRE4AceLuJP",
        "outputId": "3b053ad2-31f7-4ff0-f69c-29c895c35127"
      },
      "execution_count": 9,
      "outputs": [
        {
          "output_type": "stream",
          "name": "stdout",
          "text": [
            "0.8119773001900322\n",
            "1.2599489516147993\n",
            "1.7312458715272572\n"
          ]
        }
      ]
    },
    {
      "cell_type": "markdown",
      "source": [
        "**Next step: calculate the index within its industry and compare it with the baseline**"
      ],
      "metadata": {
        "id": "HgJMK5rpL7Do"
      }
    },
    {
      "cell_type": "markdown",
      "source": [
        "# **Feature 4**: EquityLens"
      ],
      "metadata": {
        "id": "CGmC9BIMK7Rw"
      }
    },
    {
      "cell_type": "markdown",
      "source": [
        "## **Equity Algorithm:**\n",
        "\n",
        "1. Given a protect class: P\n",
        "2. Calculate the top 10% of the features with statistically significant difference in mean\n",
        "3. Equity Correction, 'premium' or 'swap'\n",
        "\n",
        "\n",
        "*   *Premium*: add back the difference (premium) to the feature among the unprivileged groups\n",
        "*   *Swap*: counterfactual transformation: replace the values among the unprivileged group with their closest neighbor in the privileged group (matching: knn, synthetic control)"
      ],
      "metadata": {
        "id": "bHN8POM4LKnd"
      }
    },
    {
      "cell_type": "markdown",
      "source": [
        "## **Example: German Credit Data**"
      ],
      "metadata": {
        "id": "tpRbYLXtGqmF"
      }
    },
    {
      "cell_type": "code",
      "source": [
        "import pandas as pd\n",
        "import numpy as np\n",
        "from scipy import stats\n",
        "from IPython.display import Markdown, display"
      ],
      "metadata": {
        "id": "rh7C0MPxF3Xa"
      },
      "execution_count": 15,
      "outputs": []
    },
    {
      "cell_type": "code",
      "source": [
        "# use german credit data: https://archive.ics.uci.edu/ml/datasets/statlog+(german+credit+data)\n",
        "german = pd.read_csv('/content/german.csv')"
      ],
      "metadata": {
        "id": "8nZehglmrSbA"
      },
      "execution_count": 16,
      "outputs": []
    },
    {
      "cell_type": "code",
      "source": [
        "# simply feature engineering, convert category var --> numeric\n",
        "# pretected: sex: 0 male,  1 female\n",
        "german['sex'] = german['Personal status and sex'].apply(lambda x: 0 if x == 'A91' or x == 'A93' or x == 'A94' \n",
        "                                                        else (1 if x == 'A92' or x == 'A95' else np.nan))\n",
        "\n",
        "german['foreign_worker_n'] = german['foreign worker'].apply(lambda x: 1 if x == 'A201' else(0 if x == 'A202' else(np.nan)))\n",
        "german['checking_n'] = german['checking'].apply(lambda x: 0 if x == 'A14' else(1 if x == 'A11' \n",
        "                                                                             else(2 if x == 'A12' \n",
        "                                                                                  else(3 if x == 'A13' else np.nan))))\n",
        "german['employment_since_n'] = german['employment since'].apply(lambda x: 0 if x == 'A71' else(1 if x == 'A72' \n",
        "                                                                             else(2 if x == 'A73' \n",
        "                                                                                  else(3 if x == 'A74' \n",
        "                                                                                       else (4 if x =='A75' else np.nan)))))\n",
        "german['Property_n'] = german['Property'].apply(lambda x: 0 if x == 'A124' else(1 if x == 'A123' \n",
        "                                                                             else(2 if x == 'A122' \n",
        "                                                                                  else(3 if x == 'A121' \n",
        "                                                                                       else np.nan))))\n",
        "german['Credit_history_n'] = german['Credit history'].apply(lambda x: 0 if x == 'A34' else(1 if x == 'A33' \n",
        "                                                                             else(2 if x == 'A32' \n",
        "                                                                                  else(3 if x == 'A31' \n",
        "                                                                                       else (4 if x =='A30' else np.nan)))))\n",
        "\n"
      ],
      "metadata": {
        "id": "LC-3UFF0HNjt"
      },
      "execution_count": 17,
      "outputs": []
    },
    {
      "cell_type": "markdown",
      "source": [
        "**1. T-test on the protected class**"
      ],
      "metadata": {
        "id": "s9QUFTJvspPI"
      }
    },
    {
      "cell_type": "code",
      "source": [
        "# label_maps': 1.0: 'Good Credit', 2.0: 'Bad Credit'\n",
        "protected_class = 'sex'\n",
        "outcome_var = 'label'\n",
        "df = german\n",
        "\n",
        "p_val, diff = EquityLens.functions.ttest_var(protected_class, outcome_var, df)\n",
        "display(Markdown(\"#### Original dataset\"))\n",
        "print(\"T-test result between unprivileged and privileged groups:  p-value = %g\" % ( round(p_val,2)),  '; Diff:', round(diff,2))"
      ],
      "metadata": {
        "colab": {
          "base_uri": "https://localhost:8080/",
          "height": 75
        },
        "id": "HmksSR7bG2G2",
        "outputId": "05ddbc29-c23e-487a-e4f4-2edf1071c5a6"
      },
      "execution_count": 20,
      "outputs": [
        {
          "output_type": "display_data",
          "data": {
            "text/plain": [
              "<IPython.core.display.Markdown object>"
            ],
            "text/markdown": "#### Original dataset"
          },
          "metadata": {}
        },
        {
          "output_type": "stream",
          "name": "stdout",
          "text": [
            "T-test result between unprivileged and privileged groups:  p-value = 0.02 ; Diff: 0.07\n"
          ]
        }
      ]
    },
    {
      "cell_type": "markdown",
      "source": [
        "**2. Equity Lens: Identify the bias and Root Cause Analysis**"
      ],
      "metadata": {
        "id": "HP6jy7aAsxmj"
      }
    },
    {
      "cell_type": "code",
      "source": [
        "import warnings\n",
        "warnings.filterwarnings(\"ignore\")\n",
        "\n",
        "protected_class = 'sex'\n",
        "features = ['checking_n', 'Duration in month', 'Credit_history_n',  'Credit amount', 'employment_since_n', 'Installment rate ',  \n",
        "            'Present residence since', 'Property_n', 'Number of existing credits', 'Number of people',  'foreign_worker_n']\n",
        "df = german\n",
        "\n",
        "new_features = EquityLens.functions.Equity_Lens(protected_class, features, df)"
      ],
      "metadata": {
        "id": "AT0msPyI3KPA",
        "colab": {
          "base_uri": "https://localhost:8080/"
        },
        "outputId": "e77e2704-bd71-4a0f-ec18-5458c8893124"
      },
      "execution_count": 22,
      "outputs": [
        {
          "output_type": "stream",
          "name": "stdout",
          "text": [
            "The differences in sex are significant\n",
            "Most differences in sex come from:\n",
            "\n",
            "   Number of people\n",
            "employment_since_n\n"
          ]
        }
      ]
    },
    {
      "cell_type": "markdown",
      "source": [
        "**Root Cause Analysis**"
      ],
      "metadata": {
        "id": "WPJdiNjetdx-"
      }
    },
    {
      "cell_type": "code",
      "source": [
        "display(Markdown(\"####Top features that show variations:\"))\n",
        "for key in new_features.keys():\n",
        "    print(key)\n",
        "    german[key] = new_features[key]"
      ],
      "metadata": {
        "colab": {
          "base_uri": "https://localhost:8080/",
          "height": 93
        },
        "id": "yTFWJED05oLZ",
        "outputId": "9b1813a0-18a2-4e92-a54b-86a4f29292c5"
      },
      "execution_count": 23,
      "outputs": [
        {
          "output_type": "display_data",
          "data": {
            "text/plain": [
              "<IPython.core.display.Markdown object>"
            ],
            "text/markdown": "####Top features that show variations:"
          },
          "metadata": {}
        },
        {
          "output_type": "stream",
          "name": "stdout",
          "text": [
            "Number of people_new\n",
            "employment_since_n_new\n"
          ]
        }
      ]
    },
    {
      "cell_type": "markdown",
      "source": [
        "**3. Equity Correction (premium): Counterfactual Prediction**"
      ],
      "metadata": {
        "id": "AelWsAmPuARL"
      }
    },
    {
      "cell_type": "code",
      "source": [
        "p_val, diff = EquityLens.functions.ttest_var('sex', 'employment_since_n', german)\n",
        "display(Markdown(\"#### Original dataset in protected class {}:\".format('[Sex]')))\n",
        "print(\"ttest_ind_from_stats:  p-value = %g\" % ( round(p_val,2)),  '\\nDiff:', round(diff,2))"
      ],
      "metadata": {
        "colab": {
          "base_uri": "https://localhost:8080/",
          "height": 93
        },
        "id": "4n67VFQK8zrV",
        "outputId": "6cbac98c-76dd-468d-f1d0-6e246c89e49c"
      },
      "execution_count": 24,
      "outputs": [
        {
          "output_type": "display_data",
          "data": {
            "text/plain": [
              "<IPython.core.display.Markdown object>"
            ],
            "text/markdown": "#### Original dataset in protected class [Sex]:"
          },
          "metadata": {}
        },
        {
          "output_type": "stream",
          "name": "stdout",
          "text": [
            "ttest_ind_from_stats:  p-value = 0 \n",
            "Diff: -0.51\n"
          ]
        }
      ]
    },
    {
      "cell_type": "markdown",
      "source": [
        "**Use the new feature**"
      ],
      "metadata": {
        "id": "I7-HlxtDAFby"
      }
    },
    {
      "cell_type": "code",
      "source": [
        "p_val, diff = EquityLens.functions.ttest_var('sex', 'employment_since_n_new', german)\n",
        "display(Markdown(\"#### Transformed dataset in protected class {}:\".format('[Sex]')))\n",
        "print(\"ttest_ind_from_stats:  p-value = %g\" % ( round(p_val,2)),  '\\nDiff:', round(diff,2))"
      ],
      "metadata": {
        "colab": {
          "base_uri": "https://localhost:8080/",
          "height": 93
        },
        "id": "USLNpm7y6gfF",
        "outputId": "d1b6ea4f-d222-4916-9240-f15c466c7d64"
      },
      "execution_count": 25,
      "outputs": [
        {
          "output_type": "display_data",
          "data": {
            "text/plain": [
              "<IPython.core.display.Markdown object>"
            ],
            "text/markdown": "#### Transformed dataset in protected class [Sex]:"
          },
          "metadata": {}
        },
        {
          "output_type": "stream",
          "name": "stdout",
          "text": [
            "ttest_ind_from_stats:  p-value = 1 \n",
            "Diff: 0.0\n"
          ]
        }
      ]
    },
    {
      "cell_type": "markdown",
      "source": [
        "**<h1><center>Voilà!</center></h1>**\n",
        "\n",
        "\n"
      ],
      "metadata": {
        "id": "JuzqBuXFAj9i"
      }
    }
  ]
}